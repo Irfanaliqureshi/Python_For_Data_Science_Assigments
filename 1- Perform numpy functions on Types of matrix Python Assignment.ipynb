{
 "cells": [
  {
   "cell_type": "markdown",
   "id": "c3d85b5b-a364-4b01-9e12-33698c7db723",
   "metadata": {},
   "source": [
    "# PYTHON ASSIGNMENT:\n",
    "                                                                                             PREPARED BY IRFAN ALI ROLL NO: 2K22/CSE/48\n",
    "##  Perform numpy functions on Types of matrix\n",
    "### Common NumPy Array Functions"
   ]
  },
  {
   "cell_type": "markdown",
   "id": "1cd60537-89ac-4354-abfe-496d5ba1b1df",
   "metadata": {},
   "source": [
    "* There are many NumPy array functions available but here are some of the most commonly used ones.\n",
    "\n",
    "* Array Operations\tFunctions\n",
    "* Array Creation Functions\t    np.array(), np.zeros(), np.ones(), np.empty(), etc.\n",
    "* Array Manipulation Functions\tnp.reshape(), np.transpose(), etc.\n",
    "* Array Mathematical Functions\tnp.add(), np.subtract(), np.sqrt(), np.power(), etc.\n",
    "* Array Statistical Functions\tnp.median(), np.mean(), np.std(), and np.var().\n"
   ]
  },
  {
   "cell_type": "markdown",
   "id": "00c4a939-224e-4529-9db4-3d04b76dca0b",
   "metadata": {},
   "source": [
    "# Matrix and its types"
   ]
  },
  {
   "cell_type": "markdown",
   "id": "688852d9-aacb-4307-a4ce-e7643a591a71",
   "metadata": {},
   "source": [
    "## What is matrix?"
   ]
  },
  {
   "cell_type": "markdown",
   "id": "8aec70e3-9e96-486a-a143-ec5569045625",
   "metadata": {},
   "source": [
    "* A set of numbers arranged in rows and columns so as to form a rectangular array. The numbers are called the elements, or entries, of the matrix.\n",
    "* If there are m rows and n columns, the matrix is said to be an “m by n” matrix, written “m × n.”\n",
    "* There are many types of matrices depending on the elements in the matrix, order, and certain sets of conditions. The different types of matrices are mentioned below:"
   ]
  },
  {
   "cell_type": "markdown",
   "id": "3941e9c8-c0b2-47d4-a62b-0975c1f85915",
   "metadata": {},
   "source": [
    "# 1) Singleton Matrix"
   ]
  },
  {
   "cell_type": "markdown",
   "id": "c8165c5a-74ba-4cb7-b5ed-2c6521550067",
   "metadata": {},
   "source": [
    "* A matrix that has only one element is called a singleton matrix. \n",
    "* In this type of matrix number of columns and the number of rows is equal to 1"
   ]
  },
  {
   "cell_type": "code",
   "execution_count": 1,
   "id": "0c855fbf-f507-4b72-916b-3db9290788da",
   "metadata": {},
   "outputs": [
    {
     "name": "stdout",
     "output_type": "stream",
     "text": [
      "Singleton Matrix:\n",
      "[[1]]\n"
     ]
    }
   ],
   "source": [
    "import numpy as np\n",
    "\n",
    "singleton_matrix = np.array([[1]])\n",
    "print(\"Singleton Matrix:\")\n",
    "print(singleton_matrix)"
   ]
  },
  {
   "cell_type": "markdown",
   "id": "897118c2-29c1-4746-bd44-049e957fbc98",
   "metadata": {},
   "source": [
    "# 2) Row Matrix\n",
    "* a row matrix is a type of matrix that has a single row. But the number of columns could be more than one."
   ]
  },
  {
   "cell_type": "code",
   "execution_count": 2,
   "id": "7ff9ac5f-1709-428c-b784-a5fca3a07d4f",
   "metadata": {},
   "outputs": [
    {
     "name": "stdout",
     "output_type": "stream",
     "text": [
      "Row Matrix:\n",
      "[[1 2 3]]\n"
     ]
    }
   ],
   "source": [
    "row_matrix = np.array([[1, 2, 3]])\n",
    "print(\"Row Matrix:\")\n",
    "print(row_matrix)"
   ]
  },
  {
   "cell_type": "markdown",
   "id": "a1a530d7-d59a-4998-9341-4beb20426e38",
   "metadata": {},
   "source": [
    "# 3) Column Matrix\n",
    "* A column matrix is a type of matrix that has only one column. The order of the column matrix is represented by m x 1."
   ]
  },
  {
   "cell_type": "code",
   "execution_count": 3,
   "id": "234c06a7-ad66-40f6-a959-44effc2d1a2d",
   "metadata": {},
   "outputs": [
    {
     "name": "stdout",
     "output_type": "stream",
     "text": [
      "Column Matrix:\n",
      "[[1]\n",
      " [2]\n",
      " [3]]\n"
     ]
    }
   ],
   "source": [
    "column_matrix = np.array([[1], [2], [3]])\n",
    "print(\"Column Matrix:\")\n",
    "print(column_matrix)"
   ]
  },
  {
   "cell_type": "markdown",
   "id": "c4d8a552-1753-4a3b-b15f-832a18e79c49",
   "metadata": {},
   "source": [
    "# 4) Square Matrix\n",
    "* \n",
    "A square matrix is a matrix with the same number of rows and columns\n",
    "*    An n-by-n matrix is known as a square matrix of order n\n",
    "*  . Any two squar   matrices of the same order can be added and multipliedix"
   ]
  },
  {
   "cell_type": "code",
   "execution_count": 4,
   "id": "2f506c09-04f6-414a-90d1-8e2a4d44962f",
   "metadata": {},
   "outputs": [
    {
     "name": "stdout",
     "output_type": "stream",
     "text": [
      "Square Matrix:\n",
      "[[1 2]\n",
      " [3 4]]\n"
     ]
    }
   ],
   "source": [
    "square_matrix = np.array([[1, 2], [3, 4]])\n",
    "print(\"Square Matrix:\")\n",
    "print(square_matrix)"
   ]
  },
  {
   "cell_type": "markdown",
   "id": "89d9e015-7c30-4e4a-8ed3-02c4dc248c7c",
   "metadata": {},
   "source": [
    "# 5) Identity Matrix\n",
    "* In which all the elements on the main diagonal are equal to 1 and all other elements are equal to O.\n",
    "* The identity matrix In of size n is the n-by-n matrix.\n"
   ]
  },
  {
   "cell_type": "code",
   "execution_count": 5,
   "id": "e5dd97ce-235c-471a-b714-6247182a0703",
   "metadata": {},
   "outputs": [
    {
     "name": "stdout",
     "output_type": "stream",
     "text": [
      "Identity Matrix:\n",
      "[[1. 0.]\n",
      " [0. 1.]]\n"
     ]
    }
   ],
   "source": [
    "def identity(n):\n",
    "    return np.eye(n)\n",
    "n = 2\n",
    "identity_matrix = identity(n)\n",
    "print(\"Identity Matrix:\")\n",
    "print(identity_matrix)\n"
   ]
  },
  {
   "cell_type": "markdown",
   "id": "c0e0bb87-2117-4a48-9e00-c216af0d59f9",
   "metadata": {},
   "source": [
    "# 6) Null or Zero matrix\n",
    "* A matrix whose all elements are zero is called a Null Matrix. A null matrix is also called a Zero Matrix because its all elements are zero. "
   ]
  },
  {
   "cell_type": "code",
   "execution_count": 6,
   "id": "db03fc18-b4cf-4439-a907-73cbd178bbf3",
   "metadata": {},
   "outputs": [
    {
     "name": "stdout",
     "output_type": "stream",
     "text": [
      "[[0. 0. 0.]\n",
      " [0. 0. 0.]]\n"
     ]
    }
   ],
   "source": [
    "zeros_matrix=np.zeros([2,3])\n",
    "print(zeros_matrix)"
   ]
  },
  {
   "cell_type": "markdown",
   "id": "0f8e96bd-d96d-4213-9e0b-d7d9c15b5326",
   "metadata": {},
   "source": [
    "# 7) Matrix of ones \n",
    "* A matrix of ones or all-ones matrix is a matrix where every entry is equal to one."
   ]
  },
  {
   "cell_type": "code",
   "execution_count": 7,
   "id": "3d402442-0d9d-40f4-b9a1-23f3cef64e3e",
   "metadata": {},
   "outputs": [
    {
     "name": "stdout",
     "output_type": "stream",
     "text": [
      "[[1. 1. 1.]\n",
      " [1. 1. 1.]]\n"
     ]
    }
   ],
   "source": [
    "matrix_of_ones=np.ones([2,3])\n",
    "print(matrix_of_ones)"
   ]
  },
  {
   "cell_type": "markdown",
   "id": "603f540c-2611-4f37-813e-e5a4671131bc",
   "metadata": {},
   "source": [
    "# 8) Horizontal Matrix\n",
    "* A matrix in which the number of rows is lower than the number of columns is called a Horizontal Matrix"
   ]
  },
  {
   "cell_type": "code",
   "execution_count": 8,
   "id": "d91668c8-da13-4692-865e-6cbade21f26e",
   "metadata": {},
   "outputs": [
    {
     "name": "stdout",
     "output_type": "stream",
     "text": [
      "Horizontal Matrix:\n",
      "[[1 2 3]\n",
      " [4 5 6]]\n"
     ]
    }
   ],
   "source": [
    "horizontal_matrix = np.array([[1, 2, 3], [4, 5, 6]])\n",
    "print(\"Horizontal Matrix:\")\n",
    "print(horizontal_matrix)\n"
   ]
  },
  {
   "cell_type": "markdown",
   "id": "06359667-61fd-4b6d-9f26-658e1309bc92",
   "metadata": {},
   "source": [
    "# 9) Vertical Matrix\n",
    "* The matrix in which the number of rows greater than the number of columns is called a Vertical Matrix"
   ]
  },
  {
   "cell_type": "code",
   "execution_count": 9,
   "id": "a74f31b6-7198-4eed-ad10-6659782f67cf",
   "metadata": {},
   "outputs": [
    {
     "name": "stdout",
     "output_type": "stream",
     "text": [
      "Vertical Matrix:\n",
      "[[1]\n",
      " [2]\n",
      " [3]]\n"
     ]
    }
   ],
   "source": [
    "vertical_matrix = np.array([[1], [2], [3]])\n",
    "print(\"Vertical Matrix:\")\n",
    "print(vertical_matrix)"
   ]
  },
  {
   "cell_type": "markdown",
   "id": "c6668cca-80b7-4be2-a588-aaed025826e3",
   "metadata": {},
   "source": [
    "# 10)Rectangular Matrix\n",
    "* A matrix that does not have an equal number of rows and columns is known as a Rectangular Matrix."
   ]
  },
  {
   "cell_type": "code",
   "execution_count": 10,
   "id": "05b9691f-ce88-4f16-95a4-6b8c0cc4aaa9",
   "metadata": {},
   "outputs": [
    {
     "name": "stdout",
     "output_type": "stream",
     "text": [
      "Rectangular Matrix:\n",
      "[[1 2 3]\n",
      " [4 5 6]]\n"
     ]
    }
   ],
   "source": [
    "rectangular_matrix = np.array([[1, 2, 3], [4, 5, 6]])\n",
    "print(\"Rectangular Matrix:\")\n",
    "print(rectangular_matrix)\n"
   ]
  },
  {
   "cell_type": "markdown",
   "id": "fc81546a-98b9-4012-9831-909fe5d13d7d",
   "metadata": {},
   "source": [
    "# 1D and 2D random Matrix\n",
    "* np.random.randint() is one of the function for doing random sampling in numpy.\n",
    "* It returns an array of specified shape and fills it with random integers from low (inclusive) to high (exclusive)"
   ]
  },
  {
   "cell_type": "code",
   "execution_count": 11,
   "id": "f262ef46-65bc-4741-9766-60e20a30bd82",
   "metadata": {},
   "outputs": [
    {
     "name": "stdout",
     "output_type": "stream",
     "text": [
      "[[3 2 1 1]\n",
      " [4 1 4 4]\n",
      " [4 4 1 3]\n",
      " [3 2 4 1]]\n"
     ]
    }
   ],
   "source": [
    "random_function = np.random.randint(1, 5, size=(4, 4))\n",
    "print(random_function)"
   ]
  },
  {
   "cell_type": "code",
   "execution_count": null,
   "id": "867d261f-9650-4780-b9c7-69a86f2a299c",
   "metadata": {},
   "outputs": [],
   "source": []
  },
  {
   "cell_type": "markdown",
   "id": "620b5c1e-71ab-423e-8ee9-c3538d05f975",
   "metadata": {},
   "source": [
    "\n",
    "# THANK YOU VERY MUCH"
   ]
  },
  {
   "cell_type": "code",
   "execution_count": null,
   "id": "948163f2-efd4-45f6-a726-9209526e6520",
   "metadata": {},
   "outputs": [],
   "source": []
  }
 ],
 "metadata": {
  "kernelspec": {
   "display_name": "Python 3 (ipykernel)",
   "language": "python",
   "name": "python3"
  },
  "language_info": {
   "codemirror_mode": {
    "name": "ipython",
    "version": 3
   },
   "file_extension": ".py",
   "mimetype": "text/x-python",
   "name": "python",
   "nbconvert_exporter": "python",
   "pygments_lexer": "ipython3",
   "version": "3.11.7"
  }
 },
 "nbformat": 4,
 "nbformat_minor": 5
}
